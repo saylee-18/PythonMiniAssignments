{
  "nbformat": 4,
  "nbformat_minor": 0,
  "metadata": {
    "colab": {
      "provenance": []
    },
    "kernelspec": {
      "name": "python3",
      "display_name": "Python 3"
    },
    "language_info": {
      "name": "python"
    }
  },
  "cells": [
    {
      "cell_type": "code",
      "execution_count": 2,
      "metadata": {
        "colab": {
          "base_uri": "https://localhost:8080/"
        },
        "id": "gCbrc90BnfPu",
        "outputId": "dbc380d5-0d7e-4d5d-e19d-757956c6d4ec"
      },
      "outputs": [
        {
          "output_type": "stream",
          "name": "stdout",
          "text": [
            "Have ou completed Finish report ? (y/n): y\n",
            "Have ou completed Go to gym ? (y/n): y\n",
            "Have ou completed Read book ? (y/n): n\n",
            "Have ou completed Buy groceries ? (y/n): y\n",
            "Have ou completed Call friend ? (y/n): n\n",
            "Completed Tasks are:  ['Finish report', 'Go to gym', 'Buy groceries']\n",
            "Incompleted Tasks are:  ['Read book', 'Call friend']\n"
          ]
        }
      ],
      "source": [
        "checklist = [\"Finish report\", \"Go to gym\", \"Read book\", \"Buy groceries\", \"Call friend\"]\n",
        "completed, incomplete = [], []\n",
        "for task in checklist:\n",
        "  if input(f\"Have ou completed {task} ? (y/n): \").lower() == \"y\":\n",
        "    completed.append(task)\n",
        "  else:\n",
        "    incomplete.append(task)\n",
        "\n",
        "print(\"Completed Tasks are: \", completed)\n",
        "print(\"Incompleted Tasks are: \", incomplete)\n",
        "\n"
      ]
    },
    {
      "cell_type": "code",
      "source": [],
      "metadata": {
        "id": "ZCWei_9upQpZ"
      },
      "execution_count": null,
      "outputs": []
    }
  ]
}