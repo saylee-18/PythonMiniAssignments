{
  "nbformat": 4,
  "nbformat_minor": 0,
  "metadata": {
    "colab": {
      "provenance": []
    },
    "kernelspec": {
      "name": "python3",
      "display_name": "Python 3"
    },
    "language_info": {
      "name": "python"
    }
  },
  "cells": [
    {
      "cell_type": "code",
      "execution_count": 1,
      "metadata": {
        "colab": {
          "base_uri": "https://localhost:8080/"
        },
        "id": "AWXoPVKzve3c",
        "outputId": "08f2d2f7-a146-4a3d-db51-6753670b654b"
      },
      "outputs": [
        {
          "output_type": "stream",
          "name": "stdout",
          "text": [
            "Most repetitive element is: 3\n"
          ]
        }
      ],
      "source": [
        "L1 = [1, 2, 3, 2, 3, 2, 3, 4, 5, 3, 5, 3]\n",
        "\n",
        "most_repeated = max(L1, key=L1.count)\n",
        "print(\"Most repetitive element is:\", most_repeated)"
      ]
    }
  ]
}