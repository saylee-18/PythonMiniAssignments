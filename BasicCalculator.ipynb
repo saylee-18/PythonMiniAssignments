{
  "nbformat": 4,
  "nbformat_minor": 0,
  "metadata": {
    "colab": {
      "provenance": []
    },
    "kernelspec": {
      "name": "python3",
      "display_name": "Python 3"
    },
    "language_info": {
      "name": "python"
    }
  },
  "cells": [
    {
      "cell_type": "code",
      "execution_count": 5,
      "metadata": {
        "colab": {
          "base_uri": "https://localhost:8080/"
        },
        "id": "1vaovSNBrxAb",
        "outputId": "8ccf6de2-872c-4614-a188-12a00f883cf7"
      },
      "outputs": [
        {
          "output_type": "stream",
          "name": "stdout",
          "text": [
            "First number is:30\n",
            "Second number is:8\n",
            "Select operator from (+ - * /): *\n",
            "Multipication is: 240.0\n"
          ]
        }
      ],
      "source": [
        "def add(a, b): return a + b\n",
        "def sub(a, b): return a - b\n",
        "def mul(a, b): return a * b\n",
        "def div(a, b): return \"Error\" if b == 0 else a / b\n",
        "\n",
        "a = float(input(\"First number is:\"))\n",
        "b = float(input(\"Second number is:\"))\n",
        "op = input(\"Select operator from (+ - * /): \")\n",
        "\n",
        "if op == \"+\":\n",
        "  print(\"Addition is:\", add(a, b))\n",
        "elif op == \"-\":\n",
        "  print(\"Subtraction is:\", sub(a, b))\n",
        "elif op == \"*\":\n",
        "  print(\"Multipication is:\", mul(a, b))\n",
        "elif op == \"/\":\n",
        "  print(\"Division is:\", div(a, b))\n",
        "else:\n",
        "  print(\"Invalid Operator\")\n"
      ]
    }
  ]
}